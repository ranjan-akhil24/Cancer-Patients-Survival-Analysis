{
 "cells": [
  {
   "cell_type": "code",
   "execution_count": 1,
   "metadata": {},
   "outputs": [],
   "source": [
    "#Import the data using pandas\n",
    "import pandas as pd\n",
    "data = pd.read_csv(\"Cancer_model_cdata.csv\")"
   ]
  },
  {
   "cell_type": "code",
   "execution_count": 2,
   "metadata": {},
   "outputs": [
    {
     "data": {
      "text/html": [
       "<div>\n",
       "<style scoped>\n",
       "    .dataframe tbody tr th:only-of-type {\n",
       "        vertical-align: middle;\n",
       "    }\n",
       "\n",
       "    .dataframe tbody tr th {\n",
       "        vertical-align: top;\n",
       "    }\n",
       "\n",
       "    .dataframe thead th {\n",
       "        text-align: right;\n",
       "    }\n",
       "</style>\n",
       "<table border=\"1\" class=\"dataframe\">\n",
       "  <thead>\n",
       "    <tr style=\"text-align: right;\">\n",
       "      <th></th>\n",
       "      <th>BIRTH_DATE_off</th>\n",
       "      <th>DEATH_DATE_off</th>\n",
       "      <th>sex</th>\n",
       "      <th>race</th>\n",
       "      <th>LUNG</th>\n",
       "      <th>PANCREAS</th>\n",
       "      <th>THYROID</th>\n",
       "      <th>COLORECTAL</th>\n",
       "      <th>MELANOMA</th>\n",
       "      <th>LUNG.DT</th>\n",
       "      <th>...</th>\n",
       "      <th>MELANOMA_DT</th>\n",
       "      <th>multiple_cancer</th>\n",
       "      <th>cancer_type</th>\n",
       "      <th>Category_Race</th>\n",
       "      <th>Age</th>\n",
       "      <th>ageCat</th>\n",
       "      <th>Diag_date</th>\n",
       "      <th>Death</th>\n",
       "      <th>Target</th>\n",
       "      <th>Survival_Days</th>\n",
       "    </tr>\n",
       "  </thead>\n",
       "  <tbody>\n",
       "    <tr>\n",
       "      <th>0</th>\n",
       "      <td>02/12/59</td>\n",
       "      <td>NaN</td>\n",
       "      <td>Male</td>\n",
       "      <td>Black/African-American</td>\n",
       "      <td>1</td>\n",
       "      <td>0</td>\n",
       "      <td>0</td>\n",
       "      <td>0</td>\n",
       "      <td>0</td>\n",
       "      <td>01/09/13</td>\n",
       "      <td>...</td>\n",
       "      <td>NaN</td>\n",
       "      <td>1</td>\n",
       "      <td>Lung Cancer</td>\n",
       "      <td>African-American</td>\n",
       "      <td>57</td>\n",
       "      <td>(50,60]</td>\n",
       "      <td>01/09/13</td>\n",
       "      <td>0</td>\n",
       "      <td>25/08/16</td>\n",
       "      <td>1089</td>\n",
       "    </tr>\n",
       "    <tr>\n",
       "      <th>1</th>\n",
       "      <td>18/11/55</td>\n",
       "      <td>20/04/16</td>\n",
       "      <td>Male</td>\n",
       "      <td>Black/African-American</td>\n",
       "      <td>1</td>\n",
       "      <td>0</td>\n",
       "      <td>0</td>\n",
       "      <td>0</td>\n",
       "      <td>0</td>\n",
       "      <td>02/04/16</td>\n",
       "      <td>...</td>\n",
       "      <td>NaN</td>\n",
       "      <td>1</td>\n",
       "      <td>Lung Cancer</td>\n",
       "      <td>African-American</td>\n",
       "      <td>61</td>\n",
       "      <td>(60,70]</td>\n",
       "      <td>02/04/16</td>\n",
       "      <td>1</td>\n",
       "      <td>25/08/16</td>\n",
       "      <td>18</td>\n",
       "    </tr>\n",
       "    <tr>\n",
       "      <th>2</th>\n",
       "      <td>14/01/46</td>\n",
       "      <td>25/05/15</td>\n",
       "      <td>Female</td>\n",
       "      <td>Black/African-American</td>\n",
       "      <td>1</td>\n",
       "      <td>0</td>\n",
       "      <td>0</td>\n",
       "      <td>0</td>\n",
       "      <td>0</td>\n",
       "      <td>11/04/15</td>\n",
       "      <td>...</td>\n",
       "      <td>NaN</td>\n",
       "      <td>1</td>\n",
       "      <td>Lung Cancer</td>\n",
       "      <td>African-American</td>\n",
       "      <td>71</td>\n",
       "      <td>(70,80]</td>\n",
       "      <td>11/04/15</td>\n",
       "      <td>1</td>\n",
       "      <td>25/08/16</td>\n",
       "      <td>44</td>\n",
       "    </tr>\n",
       "    <tr>\n",
       "      <th>3</th>\n",
       "      <td>03/11/46</td>\n",
       "      <td>NaN</td>\n",
       "      <td>Female</td>\n",
       "      <td>Black/African-American</td>\n",
       "      <td>0</td>\n",
       "      <td>0</td>\n",
       "      <td>1</td>\n",
       "      <td>0</td>\n",
       "      <td>0</td>\n",
       "      <td>NaN</td>\n",
       "      <td>...</td>\n",
       "      <td>NaN</td>\n",
       "      <td>1</td>\n",
       "      <td>Thyroid Cancer</td>\n",
       "      <td>African-American</td>\n",
       "      <td>70</td>\n",
       "      <td>(60,70]</td>\n",
       "      <td>29/11/12</td>\n",
       "      <td>0</td>\n",
       "      <td>25/08/16</td>\n",
       "      <td>1365</td>\n",
       "    </tr>\n",
       "    <tr>\n",
       "      <th>4</th>\n",
       "      <td>10/06/38</td>\n",
       "      <td>NaN</td>\n",
       "      <td>Female</td>\n",
       "      <td>Black/African-American</td>\n",
       "      <td>0</td>\n",
       "      <td>0</td>\n",
       "      <td>1</td>\n",
       "      <td>0</td>\n",
       "      <td>0</td>\n",
       "      <td>NaN</td>\n",
       "      <td>...</td>\n",
       "      <td>NaN</td>\n",
       "      <td>1</td>\n",
       "      <td>Thyroid Cancer</td>\n",
       "      <td>African-American</td>\n",
       "      <td>78</td>\n",
       "      <td>(70,80]</td>\n",
       "      <td>24/06/12</td>\n",
       "      <td>0</td>\n",
       "      <td>25/08/16</td>\n",
       "      <td>1523</td>\n",
       "    </tr>\n",
       "  </tbody>\n",
       "</table>\n",
       "<p>5 rows × 23 columns</p>\n",
       "</div>"
      ],
      "text/plain": [
       "  BIRTH_DATE_off DEATH_DATE_off     sex                    race  LUNG  \\\n",
       "0       02/12/59            NaN    Male  Black/African-American     1   \n",
       "1       18/11/55       20/04/16    Male  Black/African-American     1   \n",
       "2       14/01/46       25/05/15  Female  Black/African-American     1   \n",
       "3       03/11/46            NaN  Female  Black/African-American     0   \n",
       "4       10/06/38            NaN  Female  Black/African-American     0   \n",
       "\n",
       "   PANCREAS  THYROID  COLORECTAL  MELANOMA   LUNG.DT  ... MELANOMA_DT  \\\n",
       "0         0        0           0         0  01/09/13  ...         NaN   \n",
       "1         0        0           0         0  02/04/16  ...         NaN   \n",
       "2         0        0           0         0  11/04/15  ...         NaN   \n",
       "3         0        1           0         0       NaN  ...         NaN   \n",
       "4         0        1           0         0       NaN  ...         NaN   \n",
       "\n",
       "  multiple_cancer     cancer_type     Category_Race  Age   ageCat Diag_date  \\\n",
       "0               1     Lung Cancer  African-American   57  (50,60]  01/09/13   \n",
       "1               1     Lung Cancer  African-American   61  (60,70]  02/04/16   \n",
       "2               1     Lung Cancer  African-American   71  (70,80]  11/04/15   \n",
       "3               1  Thyroid Cancer  African-American   70  (60,70]  29/11/12   \n",
       "4               1  Thyroid Cancer  African-American   78  (70,80]  24/06/12   \n",
       "\n",
       "   Death    Target Survival_Days  \n",
       "0      0  25/08/16          1089  \n",
       "1      1  25/08/16            18  \n",
       "2      1  25/08/16            44  \n",
       "3      0  25/08/16          1365  \n",
       "4      0  25/08/16          1523  \n",
       "\n",
       "[5 rows x 23 columns]"
      ]
     },
     "execution_count": 2,
     "metadata": {},
     "output_type": "execute_result"
    }
   ],
   "source": [
    "data.head()"
   ]
  },
  {
   "cell_type": "code",
   "execution_count": 3,
   "metadata": {},
   "outputs": [],
   "source": [
    "# Importting the Libraries \n",
    "import numpy as np\n",
    "import matplotlib.pyplot as plt\n",
    "import lifelines \n",
    "from lifelines import KaplanMeierFitter"
   ]
  },
  {
   "cell_type": "code",
   "execution_count": 4,
   "metadata": {},
   "outputs": [
    {
     "data": {
      "text/plain": [
       "Index(['BIRTH_DATE_off', 'DEATH_DATE_off', 'sex', 'race', 'LUNG', 'PANCREAS',\n",
       "       'THYROID', 'COLORECTAL', 'MELANOMA', 'LUNG.DT', 'PANCREAS_DT',\n",
       "       'THYROID_DT', 'COLORECTAL_DT', 'MELANOMA_DT', 'multiple_cancer',\n",
       "       'cancer_type', 'Category_Race', 'Age', 'ageCat', 'Diag_date', 'Death',\n",
       "       'Target', 'Survival_Days'],\n",
       "      dtype='object')"
      ]
     },
     "execution_count": 4,
     "metadata": {},
     "output_type": "execute_result"
    }
   ],
   "source": [
    "#List out the columns\n",
    "data.columns"
   ]
  },
  {
   "cell_type": "code",
   "execution_count": 5,
   "metadata": {},
   "outputs": [
    {
     "name": "stdout",
     "output_type": "stream",
     "text": [
      "<class 'pandas.core.frame.DataFrame'>\n",
      "RangeIndex: 4128 entries, 0 to 4127\n",
      "Data columns (total 23 columns):\n",
      " #   Column           Non-Null Count  Dtype \n",
      "---  ------           --------------  ----- \n",
      " 0   BIRTH_DATE_off   4128 non-null   object\n",
      " 1   DEATH_DATE_off   322 non-null    object\n",
      " 2   sex              4128 non-null   object\n",
      " 3   race             4126 non-null   object\n",
      " 4   LUNG             4128 non-null   int64 \n",
      " 5   PANCREAS         4128 non-null   int64 \n",
      " 6   THYROID          4128 non-null   int64 \n",
      " 7   COLORECTAL       4128 non-null   int64 \n",
      " 8   MELANOMA         4128 non-null   int64 \n",
      " 9   LUNG.DT          1462 non-null   object\n",
      " 10  PANCREAS_DT      651 non-null    object\n",
      " 11  THYROID_DT       739 non-null    object\n",
      " 12  COLORECTAL_DT    931 non-null    object\n",
      " 13  MELANOMA_DT      341 non-null    object\n",
      " 14  multiple_cancer  4128 non-null   int64 \n",
      " 15  cancer_type      4128 non-null   object\n",
      " 16  Category_Race    4128 non-null   object\n",
      " 17  Age              4128 non-null   int64 \n",
      " 18  ageCat           4125 non-null   object\n",
      " 19  Diag_date        4124 non-null   object\n",
      " 20  Death            4128 non-null   int64 \n",
      " 21  Target           4128 non-null   object\n",
      " 22  Survival_Days    4128 non-null   int64 \n",
      "dtypes: int64(9), object(14)\n",
      "memory usage: 741.9+ KB\n"
     ]
    }
   ],
   "source": [
    "#List out the count and type of every columns \n",
    "data.info()"
   ]
  },
  {
   "cell_type": "code",
   "execution_count": 6,
   "metadata": {},
   "outputs": [],
   "source": [
    "#Calling the Kaplan Meier Fitter\n",
    "km = KaplanMeierFitter()"
   ]
  },
  {
   "cell_type": "code",
   "execution_count": 7,
   "metadata": {},
   "outputs": [
    {
     "data": {
      "text/plain": [
       "<lifelines.KaplanMeierFitter:\"KM_estimate\", fitted with 4128 total observations, 3806 right-censored observations>"
      ]
     },
     "execution_count": 7,
     "metadata": {},
     "output_type": "execute_result"
    }
   ],
   "source": [
    "#Fitting the Kaplan Meier Fitter \n",
    "km.fit(durations = data[\"Survival_Days\"], event_observed = data[\"Death\"])"
   ]
  },
  {
   "cell_type": "code",
   "execution_count": 8,
   "metadata": {},
   "outputs": [
    {
     "data": {
      "text/html": [
       "<div>\n",
       "<style scoped>\n",
       "    .dataframe tbody tr th:only-of-type {\n",
       "        vertical-align: middle;\n",
       "    }\n",
       "\n",
       "    .dataframe tbody tr th {\n",
       "        vertical-align: top;\n",
       "    }\n",
       "\n",
       "    .dataframe thead th {\n",
       "        text-align: right;\n",
       "    }\n",
       "</style>\n",
       "<table border=\"1\" class=\"dataframe\">\n",
       "  <thead>\n",
       "    <tr style=\"text-align: right;\">\n",
       "      <th></th>\n",
       "      <th>removed</th>\n",
       "      <th>observed</th>\n",
       "      <th>censored</th>\n",
       "      <th>entrance</th>\n",
       "      <th>at_risk</th>\n",
       "    </tr>\n",
       "    <tr>\n",
       "      <th>event_at</th>\n",
       "      <th></th>\n",
       "      <th></th>\n",
       "      <th></th>\n",
       "      <th></th>\n",
       "      <th></th>\n",
       "    </tr>\n",
       "  </thead>\n",
       "  <tbody>\n",
       "    <tr>\n",
       "      <th>0</th>\n",
       "      <td>6</td>\n",
       "      <td>5</td>\n",
       "      <td>1</td>\n",
       "      <td>4128</td>\n",
       "      <td>4128</td>\n",
       "    </tr>\n",
       "    <tr>\n",
       "      <th>1</th>\n",
       "      <td>2</td>\n",
       "      <td>2</td>\n",
       "      <td>0</td>\n",
       "      <td>0</td>\n",
       "      <td>4122</td>\n",
       "    </tr>\n",
       "    <tr>\n",
       "      <th>2</th>\n",
       "      <td>1</td>\n",
       "      <td>1</td>\n",
       "      <td>0</td>\n",
       "      <td>0</td>\n",
       "      <td>4120</td>\n",
       "    </tr>\n",
       "    <tr>\n",
       "      <th>3</th>\n",
       "      <td>1</td>\n",
       "      <td>1</td>\n",
       "      <td>0</td>\n",
       "      <td>0</td>\n",
       "      <td>4119</td>\n",
       "    </tr>\n",
       "    <tr>\n",
       "      <th>4</th>\n",
       "      <td>4</td>\n",
       "      <td>4</td>\n",
       "      <td>0</td>\n",
       "      <td>0</td>\n",
       "      <td>4118</td>\n",
       "    </tr>\n",
       "    <tr>\n",
       "      <th>...</th>\n",
       "      <td>...</td>\n",
       "      <td>...</td>\n",
       "      <td>...</td>\n",
       "      <td>...</td>\n",
       "      <td>...</td>\n",
       "    </tr>\n",
       "    <tr>\n",
       "      <th>13732</th>\n",
       "      <td>1</td>\n",
       "      <td>0</td>\n",
       "      <td>1</td>\n",
       "      <td>0</td>\n",
       "      <td>8</td>\n",
       "    </tr>\n",
       "    <tr>\n",
       "      <th>14498</th>\n",
       "      <td>1</td>\n",
       "      <td>0</td>\n",
       "      <td>1</td>\n",
       "      <td>0</td>\n",
       "      <td>7</td>\n",
       "    </tr>\n",
       "    <tr>\n",
       "      <th>16853</th>\n",
       "      <td>1</td>\n",
       "      <td>0</td>\n",
       "      <td>1</td>\n",
       "      <td>0</td>\n",
       "      <td>6</td>\n",
       "    </tr>\n",
       "    <tr>\n",
       "      <th>20665</th>\n",
       "      <td>1</td>\n",
       "      <td>0</td>\n",
       "      <td>1</td>\n",
       "      <td>0</td>\n",
       "      <td>5</td>\n",
       "    </tr>\n",
       "    <tr>\n",
       "      <th>42607</th>\n",
       "      <td>4</td>\n",
       "      <td>0</td>\n",
       "      <td>4</td>\n",
       "      <td>0</td>\n",
       "      <td>4</td>\n",
       "    </tr>\n",
       "  </tbody>\n",
       "</table>\n",
       "<p>1856 rows × 5 columns</p>\n",
       "</div>"
      ],
      "text/plain": [
       "          removed  observed  censored  entrance  at_risk\n",
       "event_at                                                \n",
       "0               6         5         1      4128     4128\n",
       "1               2         2         0         0     4122\n",
       "2               1         1         0         0     4120\n",
       "3               1         1         0         0     4119\n",
       "4               4         4         0         0     4118\n",
       "...           ...       ...       ...       ...      ...\n",
       "13732           1         0         1         0        8\n",
       "14498           1         0         1         0        7\n",
       "16853           1         0         1         0        6\n",
       "20665           1         0         1         0        5\n",
       "42607           4         0         4         0        4\n",
       "\n",
       "[1856 rows x 5 columns]"
      ]
     },
     "execution_count": 8,
     "metadata": {},
     "output_type": "execute_result"
    }
   ],
   "source": [
    "# Table of events using the Kaplan Meier Fitter \n",
    "km.event_table"
   ]
  },
  {
   "cell_type": "code",
   "execution_count": 9,
   "metadata": {},
   "outputs": [
    {
     "data": {
      "image/png": "[encoded data removed]",
      "text/plain": [
       "<Figure size 432x288 with 1 Axes>"
      ]
     },
     "metadata": {
      "needs_background": "light"
     },
     "output_type": "display_data"
    }
   ],
   "source": [
    "km.plot(ci_show=False)\n",
    "plt.title(\"Kaplan-Meier Plot\")\n",
    "plt.ylabel(\"Probability of Survival\")\n",
    "plt.xlabel(\"Time in days\")\n",
    "plt.show()"
   ]
  },
  {
   "cell_type": "code",
   "execution_count": 10,
   "metadata": {},
   "outputs": [
    {
     "data": {
      "image/png": "[encoded data removed]",
      "text/plain": [
       "<Figure size 432x288 with 1 Axes>"
      ]
     },
     "metadata": {
      "needs_background": "light"
     },
     "output_type": "display_data"
    }
   ],
   "source": [
    "ax = plt.subplot(111)\n",
    "km = KaplanMeierFitter()\n",
    "\n",
    "for name, grouped_df in data.groupby('cancer_type'):\n",
    "    km.fit(grouped_df[\"Survival_Days\"], grouped_df[\"Death\"], label=name)\n",
    "    km.plot_survival_function(ax=ax,ci_show=False)"
   ]
  },
  {
   "cell_type": "markdown",
   "metadata": {},
   "source": [
    "\n",
    "Which cancer has the highest survival for this cohort? Thyroid\n",
    "Which cancer has the lowest survival for this cohort? Lung"
   ]
  },
  {
   "cell_type": "markdown",
   "metadata": {},
   "source": [
    "\n",
    "How many patients had 2 cancer diagnosis? 29 (Obtained while doing data modelling using R - Refer R file)"
   ]
  },
  {
   "cell_type": "code",
   "execution_count": 11,
   "metadata": {},
   "outputs": [
    {
     "data": {
      "image/png": "[encoded data removed]",
      "text/plain": [
       "<Figure size 432x288 with 1 Axes>"
      ]
     },
     "metadata": {
      "needs_background": "light"
     },
     "output_type": "display_data"
    }
   ],
   "source": [
    "ax = plt.subplot(111)\n",
    "km = KaplanMeierFitter()\n",
    "\n",
    "for name, grouped_df in data.groupby('ageCat'):\n",
    "    km.fit(grouped_df[\"Survival_Days\"], grouped_df[\"Death\"], label=name)\n",
    "    km.plot_survival_function(ax=ax,ci_show=False)"
   ]
  },
  {
   "cell_type": "markdown",
   "metadata": {},
   "source": [
    "\n",
    "Which age group has the lowest survival after 400 days since cancer diagnosis? Age group of 91 to 100 "
   ]
  },
  {
   "cell_type": "code",
   "execution_count": 12,
   "metadata": {},
   "outputs": [],
   "source": [
    "Female_colorectal = data[(data.sex == \"Female\") & (data.cancer_type == \"Colorectal Cancer\")]"
   ]
  },
  {
   "cell_type": "code",
   "execution_count": 13,
   "metadata": {},
   "outputs": [
    {
     "data": {
      "text/plain": [
       "<lifelines.KaplanMeierFitter:\"(90,100]\", fitted with 415 total observations, 386 right-censored observations>"
      ]
     },
     "execution_count": 13,
     "metadata": {},
     "output_type": "execute_result"
    }
   ],
   "source": [
    "km.fit(durations = Female_colorectal[\"Survival_Days\"], event_observed = Female_colorectal[\"Death\"] )"
   ]
  },
  {
   "cell_type": "code",
   "execution_count": 14,
   "metadata": {},
   "outputs": [
    {
     "data": {
      "text/plain": [
       "0.9414034663203517"
      ]
     },
     "execution_count": 14,
     "metadata": {},
     "output_type": "execute_result"
    }
   ],
   "source": [
    "km.predict(1000)"
   ]
  },
  {
   "cell_type": "markdown",
   "metadata": {},
   "source": [
    "\n",
    "what is the survival rate for females with colorectal cancer after 1000 days since diagnosis? 0.9414034663203517"
   ]
  },
  {
   "cell_type": "code",
   "execution_count": 15,
   "metadata": {},
   "outputs": [],
   "source": [
    "Male_lung = data[(data.sex == \"Male\") & (data.cancer_type == \"Lung Cancer\")]"
   ]
  },
  {
   "cell_type": "code",
   "execution_count": 16,
   "metadata": {},
   "outputs": [
    {
     "data": {
      "text/plain": [
       "<lifelines.KaplanMeierFitter:\"(90,100]\", fitted with 708 total observations, 613 right-censored observations>"
      ]
     },
     "execution_count": 16,
     "metadata": {},
     "output_type": "execute_result"
    }
   ],
   "source": [
    "km.fit(durations = Male_lung[\"Survival_Days\"], event_observed = Male_lung[\"Death\"] )"
   ]
  },
  {
   "cell_type": "code",
   "execution_count": 17,
   "metadata": {},
   "outputs": [
    {
     "data": {
      "text/plain": [
       "0.9151063900478764"
      ]
     },
     "execution_count": 17,
     "metadata": {},
     "output_type": "execute_result"
    }
   ],
   "source": [
    "km.predict(300)"
   ]
  },
  {
   "cell_type": "markdown",
   "metadata": {},
   "source": [
    "\n",
    "what is the survival rate for males with lung cancer after 300 days since diagnosis? 0.9151063900478764"
   ]
  },
  {
   "cell_type": "code",
   "execution_count": 18,
   "metadata": {},
   "outputs": [],
   "source": [
    "Female_Melanoma = data[(data.sex == \"Female\") & (data.cancer_type == \"Melanoma\")]"
   ]
  },
  {
   "cell_type": "code",
   "execution_count": 19,
   "metadata": {},
   "outputs": [
    {
     "data": {
      "text/plain": [
       "<lifelines.KaplanMeierFitter:\"(90,100]\", fitted with 161 total observations, 153 right-censored observations>"
      ]
     },
     "execution_count": 19,
     "metadata": {},
     "output_type": "execute_result"
    }
   ],
   "source": [
    "km.fit(durations = Female_Melanoma[\"Survival_Days\"], event_observed = Female_Melanoma[\"Death\"] )"
   ]
  },
  {
   "cell_type": "code",
   "execution_count": 20,
   "metadata": {},
   "outputs": [
    {
     "data": {
      "text/plain": [
       "0.9591273386775868"
      ]
     },
     "execution_count": 20,
     "metadata": {},
     "output_type": "execute_result"
    }
   ],
   "source": [
    "km.predict(1200)"
   ]
  },
  {
   "cell_type": "markdown",
   "metadata": {},
   "source": [
    "\n",
    "what is the survival rate for females with melanoma cancer after 1200 days since diagnosis? 0.9591273386775868"
   ]
  },
  {
   "cell_type": "code",
   "execution_count": 21,
   "metadata": {},
   "outputs": [],
   "source": [
    "Male_thyroid = data[(data.sex == \"Male\") & (data.cancer_type == \"Thyroid Cancer\")]"
   ]
  },
  {
   "cell_type": "code",
   "execution_count": 22,
   "metadata": {},
   "outputs": [
    {
     "data": {
      "text/plain": [
       "<lifelines.KaplanMeierFitter:\"(90,100]\", fitted with 203 total observations, 199 right-censored observations>"
      ]
     },
     "execution_count": 22,
     "metadata": {},
     "output_type": "execute_result"
    }
   ],
   "source": [
    "km.fit(durations = Male_thyroid[\"Survival_Days\"], event_observed = Male_thyroid[\"Death\"] )"
   ]
  },
  {
   "cell_type": "code",
   "execution_count": 23,
   "metadata": {},
   "outputs": [
    {
     "data": {
      "text/plain": [
       "0.9778981321453994"
      ]
     },
     "execution_count": 23,
     "metadata": {},
     "output_type": "execute_result"
    }
   ],
   "source": [
    "km.predict(1500)"
   ]
  },
  {
   "cell_type": "markdown",
   "metadata": {},
   "source": [
    "\n",
    "what is the survival rate for males with thyroid cancer after 1500 days since diagnosis? 0.9778981321453994"
   ]
  },
  {
   "cell_type": "code",
   "execution_count": 24,
   "metadata": {},
   "outputs": [],
   "source": [
    "Male_pancreatic = data[(data.sex == \"Male\") & (data.cancer_type == \"Pancreatic Cancer\")]"
   ]
  },
  {
   "cell_type": "code",
   "execution_count": 25,
   "metadata": {},
   "outputs": [
    {
     "data": {
      "text/plain": [
       "<lifelines.KaplanMeierFitter:\"(90,100]\", fitted with 335 total observations, 314 right-censored observations>"
      ]
     },
     "execution_count": 25,
     "metadata": {},
     "output_type": "execute_result"
    }
   ],
   "source": [
    "km.fit(durations = Male_pancreatic[\"Survival_Days\"], event_observed = Male_pancreatic[\"Death\"] )"
   ]
  },
  {
   "cell_type": "code",
   "execution_count": 26,
   "metadata": {},
   "outputs": [
    {
     "data": {
      "text/plain": [
       "0.9212332236957218"
      ]
     },
     "execution_count": 26,
     "metadata": {},
     "output_type": "execute_result"
    }
   ],
   "source": [
    "km.predict(2200)"
   ]
  },
  {
   "cell_type": "markdown",
   "metadata": {},
   "source": [
    "\n",
    "what is the survival rate for males with pancreatic cancer after 2200 days since diagnosis? 0.9212332236957218"
   ]
  },
  {
   "cell_type": "code",
   "execution_count": 5,
   "metadata": {},
   "outputs": [],
   "source": [
    "AfAm_colorectal = data[(data.Category_Race == \"African-American\") & (data.cancer_type == \"Colorectal Cancer\")]"
   ]
  },
  {
   "cell_type": "code",
   "execution_count": 28,
   "metadata": {},
   "outputs": [
    {
     "data": {
      "text/plain": [
       "<lifelines.KaplanMeierFitter:\"(90,100]\", fitted with 254 total observations, 221 right-censored observations>"
      ]
     },
     "execution_count": 28,
     "metadata": {},
     "output_type": "execute_result"
    }
   ],
   "source": [
    "km.fit(durations = AfAm_colorectal[\"Survival_Days\"], event_observed = AfAm_colorectal[\"Death\"] )"
   ]
  },
  {
   "cell_type": "code",
   "execution_count": 6,
   "metadata": {},
   "outputs": [
    {
     "data": {
      "text/html": [
       "<div>\n",
       "<style scoped>\n",
       "    .dataframe tbody tr th:only-of-type {\n",
       "        vertical-align: middle;\n",
       "    }\n",
       "\n",
       "    .dataframe tbody tr th {\n",
       "        vertical-align: top;\n",
       "    }\n",
       "\n",
       "    .dataframe thead th {\n",
       "        text-align: right;\n",
       "    }\n",
       "</style>\n",
       "<table border=\"1\" class=\"dataframe\">\n",
       "  <thead>\n",
       "    <tr style=\"text-align: right;\">\n",
       "      <th></th>\n",
       "      <th>BIRTH_DATE_off</th>\n",
       "      <th>DEATH_DATE_off</th>\n",
       "      <th>sex</th>\n",
       "      <th>race</th>\n",
       "      <th>LUNG</th>\n",
       "      <th>PANCREAS</th>\n",
       "      <th>THYROID</th>\n",
       "      <th>COLORECTAL</th>\n",
       "      <th>MELANOMA</th>\n",
       "      <th>LUNG.DT</th>\n",
       "      <th>...</th>\n",
       "      <th>MELANOMA_DT</th>\n",
       "      <th>multiple_cancer</th>\n",
       "      <th>cancer_type</th>\n",
       "      <th>Category_Race</th>\n",
       "      <th>Age</th>\n",
       "      <th>ageCat</th>\n",
       "      <th>Diag_date</th>\n",
       "      <th>Death</th>\n",
       "      <th>Target</th>\n",
       "      <th>Survival_Days</th>\n",
       "    </tr>\n",
       "  </thead>\n",
       "  <tbody>\n",
       "    <tr>\n",
       "      <th>7</th>\n",
       "      <td>11/08/71</td>\n",
       "      <td>NaN</td>\n",
       "      <td>Female</td>\n",
       "      <td>Black/African-American</td>\n",
       "      <td>0</td>\n",
       "      <td>0</td>\n",
       "      <td>0</td>\n",
       "      <td>1</td>\n",
       "      <td>0</td>\n",
       "      <td>NaN</td>\n",
       "      <td>...</td>\n",
       "      <td>NaN</td>\n",
       "      <td>1</td>\n",
       "      <td>Colorectal Cancer</td>\n",
       "      <td>African-American</td>\n",
       "      <td>45</td>\n",
       "      <td>(40,50]</td>\n",
       "      <td>01/01/14</td>\n",
       "      <td>0</td>\n",
       "      <td>25/08/16</td>\n",
       "      <td>967</td>\n",
       "    </tr>\n",
       "    <tr>\n",
       "      <th>8</th>\n",
       "      <td>22/03/48</td>\n",
       "      <td>07/01/16</td>\n",
       "      <td>Female</td>\n",
       "      <td>Black/African-American</td>\n",
       "      <td>0</td>\n",
       "      <td>0</td>\n",
       "      <td>0</td>\n",
       "      <td>1</td>\n",
       "      <td>0</td>\n",
       "      <td>NaN</td>\n",
       "      <td>...</td>\n",
       "      <td>NaN</td>\n",
       "      <td>1</td>\n",
       "      <td>Colorectal Cancer</td>\n",
       "      <td>African-American</td>\n",
       "      <td>68</td>\n",
       "      <td>(60,70]</td>\n",
       "      <td>30/09/14</td>\n",
       "      <td>1</td>\n",
       "      <td>25/08/16</td>\n",
       "      <td>464</td>\n",
       "    </tr>\n",
       "    <tr>\n",
       "      <th>10</th>\n",
       "      <td>09/01/46</td>\n",
       "      <td>NaN</td>\n",
       "      <td>Female</td>\n",
       "      <td>Black/African-American</td>\n",
       "      <td>0</td>\n",
       "      <td>0</td>\n",
       "      <td>0</td>\n",
       "      <td>1</td>\n",
       "      <td>0</td>\n",
       "      <td>NaN</td>\n",
       "      <td>...</td>\n",
       "      <td>NaN</td>\n",
       "      <td>1</td>\n",
       "      <td>Colorectal Cancer</td>\n",
       "      <td>African-American</td>\n",
       "      <td>71</td>\n",
       "      <td>(70,80]</td>\n",
       "      <td>14/09/13</td>\n",
       "      <td>0</td>\n",
       "      <td>25/08/16</td>\n",
       "      <td>1076</td>\n",
       "    </tr>\n",
       "    <tr>\n",
       "      <th>24</th>\n",
       "      <td>12/06/47</td>\n",
       "      <td>24/03/13</td>\n",
       "      <td>Male</td>\n",
       "      <td>Black/African-American</td>\n",
       "      <td>0</td>\n",
       "      <td>0</td>\n",
       "      <td>0</td>\n",
       "      <td>1</td>\n",
       "      <td>0</td>\n",
       "      <td>NaN</td>\n",
       "      <td>...</td>\n",
       "      <td>NaN</td>\n",
       "      <td>1</td>\n",
       "      <td>Colorectal Cancer</td>\n",
       "      <td>African-American</td>\n",
       "      <td>69</td>\n",
       "      <td>(60,70]</td>\n",
       "      <td>30/07/09</td>\n",
       "      <td>1</td>\n",
       "      <td>25/08/16</td>\n",
       "      <td>1333</td>\n",
       "    </tr>\n",
       "    <tr>\n",
       "      <th>28</th>\n",
       "      <td>25/03/48</td>\n",
       "      <td>NaN</td>\n",
       "      <td>Female</td>\n",
       "      <td>Black/African-American</td>\n",
       "      <td>0</td>\n",
       "      <td>0</td>\n",
       "      <td>0</td>\n",
       "      <td>1</td>\n",
       "      <td>0</td>\n",
       "      <td>NaN</td>\n",
       "      <td>...</td>\n",
       "      <td>NaN</td>\n",
       "      <td>1</td>\n",
       "      <td>Colorectal Cancer</td>\n",
       "      <td>African-American</td>\n",
       "      <td>68</td>\n",
       "      <td>(60,70]</td>\n",
       "      <td>07/10/15</td>\n",
       "      <td>0</td>\n",
       "      <td>25/08/16</td>\n",
       "      <td>323</td>\n",
       "    </tr>\n",
       "    <tr>\n",
       "      <th>...</th>\n",
       "      <td>...</td>\n",
       "      <td>...</td>\n",
       "      <td>...</td>\n",
       "      <td>...</td>\n",
       "      <td>...</td>\n",
       "      <td>...</td>\n",
       "      <td>...</td>\n",
       "      <td>...</td>\n",
       "      <td>...</td>\n",
       "      <td>...</td>\n",
       "      <td>...</td>\n",
       "      <td>...</td>\n",
       "      <td>...</td>\n",
       "      <td>...</td>\n",
       "      <td>...</td>\n",
       "      <td>...</td>\n",
       "      <td>...</td>\n",
       "      <td>...</td>\n",
       "      <td>...</td>\n",
       "      <td>...</td>\n",
       "      <td>...</td>\n",
       "    </tr>\n",
       "    <tr>\n",
       "      <th>4009</th>\n",
       "      <td>05/09/52</td>\n",
       "      <td>NaN</td>\n",
       "      <td>Female</td>\n",
       "      <td>Black/African-American</td>\n",
       "      <td>0</td>\n",
       "      <td>0</td>\n",
       "      <td>0</td>\n",
       "      <td>1</td>\n",
       "      <td>0</td>\n",
       "      <td>NaN</td>\n",
       "      <td>...</td>\n",
       "      <td>NaN</td>\n",
       "      <td>1</td>\n",
       "      <td>Colorectal Cancer</td>\n",
       "      <td>African-American</td>\n",
       "      <td>64</td>\n",
       "      <td>(60,70]</td>\n",
       "      <td>11/03/15</td>\n",
       "      <td>0</td>\n",
       "      <td>25/08/16</td>\n",
       "      <td>533</td>\n",
       "    </tr>\n",
       "    <tr>\n",
       "      <th>4033</th>\n",
       "      <td>20/08/59</td>\n",
       "      <td>NaN</td>\n",
       "      <td>Female</td>\n",
       "      <td>Black/African-American</td>\n",
       "      <td>0</td>\n",
       "      <td>0</td>\n",
       "      <td>0</td>\n",
       "      <td>1</td>\n",
       "      <td>0</td>\n",
       "      <td>NaN</td>\n",
       "      <td>...</td>\n",
       "      <td>NaN</td>\n",
       "      <td>1</td>\n",
       "      <td>Colorectal Cancer</td>\n",
       "      <td>African-American</td>\n",
       "      <td>57</td>\n",
       "      <td>(50,60]</td>\n",
       "      <td>NaN</td>\n",
       "      <td>0</td>\n",
       "      <td>25/08/16</td>\n",
       "      <td>42607</td>\n",
       "    </tr>\n",
       "    <tr>\n",
       "      <th>4036</th>\n",
       "      <td>22/07/48</td>\n",
       "      <td>NaN</td>\n",
       "      <td>Male</td>\n",
       "      <td>Black/African-American</td>\n",
       "      <td>0</td>\n",
       "      <td>0</td>\n",
       "      <td>0</td>\n",
       "      <td>1</td>\n",
       "      <td>0</td>\n",
       "      <td>NaN</td>\n",
       "      <td>...</td>\n",
       "      <td>NaN</td>\n",
       "      <td>1</td>\n",
       "      <td>Colorectal Cancer</td>\n",
       "      <td>African-American</td>\n",
       "      <td>68</td>\n",
       "      <td>(60,70]</td>\n",
       "      <td>23/05/16</td>\n",
       "      <td>0</td>\n",
       "      <td>25/08/16</td>\n",
       "      <td>94</td>\n",
       "    </tr>\n",
       "    <tr>\n",
       "      <th>4069</th>\n",
       "      <td>28/05/40</td>\n",
       "      <td>NaN</td>\n",
       "      <td>Female</td>\n",
       "      <td>Black/African-American</td>\n",
       "      <td>0</td>\n",
       "      <td>0</td>\n",
       "      <td>0</td>\n",
       "      <td>1</td>\n",
       "      <td>0</td>\n",
       "      <td>NaN</td>\n",
       "      <td>...</td>\n",
       "      <td>NaN</td>\n",
       "      <td>1</td>\n",
       "      <td>Colorectal Cancer</td>\n",
       "      <td>African-American</td>\n",
       "      <td>76</td>\n",
       "      <td>(70,80]</td>\n",
       "      <td>27/08/15</td>\n",
       "      <td>0</td>\n",
       "      <td>25/08/16</td>\n",
       "      <td>364</td>\n",
       "    </tr>\n",
       "    <tr>\n",
       "      <th>4089</th>\n",
       "      <td>23/08/44</td>\n",
       "      <td>NaN</td>\n",
       "      <td>Female</td>\n",
       "      <td>Black/African-American</td>\n",
       "      <td>0</td>\n",
       "      <td>0</td>\n",
       "      <td>0</td>\n",
       "      <td>1</td>\n",
       "      <td>0</td>\n",
       "      <td>NaN</td>\n",
       "      <td>...</td>\n",
       "      <td>NaN</td>\n",
       "      <td>1</td>\n",
       "      <td>Colorectal Cancer</td>\n",
       "      <td>African-American</td>\n",
       "      <td>72</td>\n",
       "      <td>(70,80]</td>\n",
       "      <td>12/03/16</td>\n",
       "      <td>0</td>\n",
       "      <td>25/08/16</td>\n",
       "      <td>166</td>\n",
       "    </tr>\n",
       "  </tbody>\n",
       "</table>\n",
       "<p>254 rows × 23 columns</p>\n",
       "</div>"
      ],
      "text/plain": [
       "     BIRTH_DATE_off DEATH_DATE_off     sex                    race  LUNG  \\\n",
       "7          11/08/71            NaN  Female  Black/African-American     0   \n",
       "8          22/03/48       07/01/16  Female  Black/African-American     0   \n",
       "10         09/01/46            NaN  Female  Black/African-American     0   \n",
       "24         12/06/47       24/03/13    Male  Black/African-American     0   \n",
       "28         25/03/48            NaN  Female  Black/African-American     0   \n",
       "...             ...            ...     ...                     ...   ...   \n",
       "4009       05/09/52            NaN  Female  Black/African-American     0   \n",
       "4033       20/08/59            NaN  Female  Black/African-American     0   \n",
       "4036       22/07/48            NaN    Male  Black/African-American     0   \n",
       "4069       28/05/40            NaN  Female  Black/African-American     0   \n",
       "4089       23/08/44            NaN  Female  Black/African-American     0   \n",
       "\n",
       "      PANCREAS  THYROID  COLORECTAL  MELANOMA LUNG.DT  ... MELANOMA_DT  \\\n",
       "7            0        0           1         0     NaN  ...         NaN   \n",
       "8            0        0           1         0     NaN  ...         NaN   \n",
       "10           0        0           1         0     NaN  ...         NaN   \n",
       "24           0        0           1         0     NaN  ...         NaN   \n",
       "28           0        0           1         0     NaN  ...         NaN   \n",
       "...        ...      ...         ...       ...     ...  ...         ...   \n",
       "4009         0        0           1         0     NaN  ...         NaN   \n",
       "4033         0        0           1         0     NaN  ...         NaN   \n",
       "4036         0        0           1         0     NaN  ...         NaN   \n",
       "4069         0        0           1         0     NaN  ...         NaN   \n",
       "4089         0        0           1         0     NaN  ...         NaN   \n",
       "\n",
       "     multiple_cancer        cancer_type     Category_Race  Age   ageCat  \\\n",
       "7                  1  Colorectal Cancer  African-American   45  (40,50]   \n",
       "8                  1  Colorectal Cancer  African-American   68  (60,70]   \n",
       "10                 1  Colorectal Cancer  African-American   71  (70,80]   \n",
       "24                 1  Colorectal Cancer  African-American   69  (60,70]   \n",
       "28                 1  Colorectal Cancer  African-American   68  (60,70]   \n",
       "...              ...                ...               ...  ...      ...   \n",
       "4009               1  Colorectal Cancer  African-American   64  (60,70]   \n",
       "4033               1  Colorectal Cancer  African-American   57  (50,60]   \n",
       "4036               1  Colorectal Cancer  African-American   68  (60,70]   \n",
       "4069               1  Colorectal Cancer  African-American   76  (70,80]   \n",
       "4089               1  Colorectal Cancer  African-American   72  (70,80]   \n",
       "\n",
       "     Diag_date  Death    Target Survival_Days  \n",
       "7     01/01/14      0  25/08/16           967  \n",
       "8     30/09/14      1  25/08/16           464  \n",
       "10    14/09/13      0  25/08/16          1076  \n",
       "24    30/07/09      1  25/08/16          1333  \n",
       "28    07/10/15      0  25/08/16           323  \n",
       "...        ...    ...       ...           ...  \n",
       "4009  11/03/15      0  25/08/16           533  \n",
       "4033       NaN      0  25/08/16         42607  \n",
       "4036  23/05/16      0  25/08/16            94  \n",
       "4069  27/08/15      0  25/08/16           364  \n",
       "4089  12/03/16      0  25/08/16           166  \n",
       "\n",
       "[254 rows x 23 columns]"
      ]
     },
     "execution_count": 6,
     "metadata": {},
     "output_type": "execute_result"
    }
   ],
   "source": [
    "AfAm_colorectal"
   ]
  },
  {
   "cell_type": "code",
   "execution_count": 29,
   "metadata": {},
   "outputs": [
    {
     "data": {
      "text/plain": [
       "0.7437386681805599"
      ]
     },
     "execution_count": 29,
     "metadata": {},
     "output_type": "execute_result"
    }
   ],
   "source": [
    "km.predict(2000)"
   ]
  },
  {
   "cell_type": "markdown",
   "metadata": {},
   "source": [
    "\n",
    "what is the survival rate for African-Americans with colorectal cancer after 2000 days since diagnosis? 0.7437386681805599"
   ]
  },
  {
   "cell_type": "code",
   "execution_count": 30,
   "metadata": {},
   "outputs": [],
   "source": [
    "White_lung = data[(data.Category_Race == \"White\") & (data.cancer_type == \"Lung Cancer\")]"
   ]
  },
  {
   "cell_type": "code",
   "execution_count": 31,
   "metadata": {},
   "outputs": [
    {
     "data": {
      "text/plain": [
       "<lifelines.KaplanMeierFitter:\"(90,100]\", fitted with 900 total observations, 811 right-censored observations>"
      ]
     },
     "execution_count": 31,
     "metadata": {},
     "output_type": "execute_result"
    }
   ],
   "source": [
    "km.fit(durations = White_lung[\"Survival_Days\"], event_observed = White_lung[\"Death\"] )"
   ]
  },
  {
   "cell_type": "code",
   "execution_count": 32,
   "metadata": {},
   "outputs": [
    {
     "data": {
      "text/plain": [
       "0.901511062164881"
      ]
     },
     "execution_count": 32,
     "metadata": {},
     "output_type": "execute_result"
    }
   ],
   "source": [
    "km.predict(1000)"
   ]
  },
  {
   "cell_type": "markdown",
   "metadata": {},
   "source": [
    "\n",
    "what is the survival rate for White race with lung cancer after 1000 days since diagnosis? 0.901511062164881"
   ]
  },
  {
   "cell_type": "code",
   "execution_count": 33,
   "metadata": {},
   "outputs": [],
   "source": [
    "AfAm_melanoma = data[(data.Category_Race == \"African-American\") & (data.cancer_type == \"Melanoma\")]"
   ]
  },
  {
   "cell_type": "code",
   "execution_count": 34,
   "metadata": {},
   "outputs": [
    {
     "data": {
      "text/plain": [
       "<lifelines.KaplanMeierFitter:\"(90,100]\", fitted with 14 total observations, 12 right-censored observations>"
      ]
     },
     "execution_count": 34,
     "metadata": {},
     "output_type": "execute_result"
    }
   ],
   "source": [
    "km.fit(durations = AfAm_melanoma[\"Survival_Days\"], event_observed = AfAm_melanoma[\"Death\"] )"
   ]
  },
  {
   "cell_type": "code",
   "execution_count": 35,
   "metadata": {},
   "outputs": [
    {
     "data": {
      "text/plain": [
       "0.8253968253968252"
      ]
     },
     "execution_count": 35,
     "metadata": {},
     "output_type": "execute_result"
    }
   ],
   "source": [
    "km.predict(730)"
   ]
  },
  {
   "cell_type": "markdown",
   "metadata": {},
   "source": [
    "\n",
    "what is the survival rate for African-Americans with melanoma cancer after 2 years since diagnosis? 0.8253968253968252"
   ]
  },
  {
   "cell_type": "code",
   "execution_count": 36,
   "metadata": {},
   "outputs": [],
   "source": [
    "White_pancreatic = data[(data.Category_Race == \"White\") & (data.cancer_type == \"Pancreatic Cancer\")]"
   ]
  },
  {
   "cell_type": "code",
   "execution_count": 37,
   "metadata": {},
   "outputs": [
    {
     "data": {
      "text/plain": [
       "<lifelines.KaplanMeierFitter:\"(90,100]\", fitted with 440 total observations, 419 right-censored observations>"
      ]
     },
     "execution_count": 37,
     "metadata": {},
     "output_type": "execute_result"
    }
   ],
   "source": [
    "km.fit(durations = White_pancreatic[\"Survival_Days\"], event_observed = White_pancreatic[\"Death\"] )"
   ]
  },
  {
   "cell_type": "code",
   "execution_count": 38,
   "metadata": {},
   "outputs": [
    {
     "data": {
      "text/plain": [
       "0.9402213378776019"
      ]
     },
     "execution_count": 38,
     "metadata": {},
     "output_type": "execute_result"
    }
   ],
   "source": [
    "km.predict(1095)"
   ]
  },
  {
   "cell_type": "markdown",
   "metadata": {},
   "source": [
    "\n",
    "what is the survival rate for Whites with pancreatic cancer after 3 years since diagnosis? 0.9402213378776019"
   ]
  },
  {
   "cell_type": "code",
   "execution_count": 39,
   "metadata": {},
   "outputs": [],
   "source": [
    "Asian_thyroid = data[(data.Category_Race == \"Asian/Mideast-Indian\") & (data.cancer_type == \"Thyroid Cancer\")]"
   ]
  },
  {
   "cell_type": "code",
   "execution_count": 40,
   "metadata": {},
   "outputs": [
    {
     "data": {
      "text/plain": [
       "<lifelines.KaplanMeierFitter:\"(90,100]\", fitted with 37 total observations, 36 right-censored observations>"
      ]
     },
     "execution_count": 40,
     "metadata": {},
     "output_type": "execute_result"
    }
   ],
   "source": [
    "km.fit(durations = Asian_thyroid[\"Survival_Days\"], event_observed = Asian_thyroid[\"Death\"] )"
   ]
  },
  {
   "cell_type": "code",
   "execution_count": 41,
   "metadata": {},
   "outputs": [
    {
     "data": {
      "text/plain": [
       "0.9285714285714287"
      ]
     },
     "execution_count": 41,
     "metadata": {},
     "output_type": "execute_result"
    }
   ],
   "source": [
    "km.predict(1500)"
   ]
  },
  {
   "cell_type": "markdown",
   "metadata": {},
   "source": [
    "\n",
    "what is the survival rate for Asians with thyroid cancer after 1500 days since diagnosis? 0.9285714285714287"
   ]
  },
  {
   "cell_type": "code",
   "execution_count": 42,
   "metadata": {},
   "outputs": [
    {
     "data": {
      "image/png": "[encoded data removed]",
      "text/plain": [
       "<Figure size 432x288 with 1 Axes>"
      ]
     },
     "metadata": {
      "needs_background": "light"
     },
     "output_type": "display_data"
    }
   ],
   "source": [
    "ax = plt.subplot(111)\n",
    "km = KaplanMeierFitter()\n",
    "Colorectal = data[(data.cancer_type  == \"Colorectal Cancer\")]\n",
    "\n",
    "for name, grouped_df in Colorectal.groupby('ageCat'):\n",
    "    km.fit(grouped_df[\"Survival_Days\"], grouped_df[\"Death\"], label=name)\n",
    "    km.plot_survival_function(ax=ax,ci_show=False)\n"
   ]
  },
  {
   "cell_type": "markdown",
   "metadata": {},
   "source": [
    "\n",
    "Which age group has the lowest survival for colorectal cancer at the end of the study? 71-80 #Check"
   ]
  },
  {
   "cell_type": "code",
   "execution_count": 43,
   "metadata": {},
   "outputs": [
    {
     "data": {
      "image/png": "[encoded data removed]",
      "text/plain": [
       "<Figure size 432x288 with 1 Axes>"
      ]
     },
     "metadata": {
      "needs_background": "light"
     },
     "output_type": "display_data"
    }
   ],
   "source": [
    "ax = plt.subplot(111)\n",
    "km = KaplanMeierFitter()\n",
    "Lung = data[(data.cancer_type  == \"Lung Cancer\")]\n",
    "\n",
    "for name, grouped_df in Lung.groupby('ageCat'):\n",
    "    km.fit(grouped_df[\"Survival_Days\"], grouped_df[\"Death\"], label=name)\n",
    "    km.plot_survival_function(ax=ax,ci_show=False)"
   ]
  },
  {
   "cell_type": "markdown",
   "metadata": {},
   "source": [
    "\n",
    "Which age group has the highest survival for lung cancer at the end of the study? 21-30 #Check"
   ]
  },
  {
   "cell_type": "code",
   "execution_count": 44,
   "metadata": {},
   "outputs": [],
   "source": [
    "Age_Melanoma = data[(data.ageCat == \"(60,70]\") & (data.cancer_type == \"Melanoma\")]"
   ]
  },
  {
   "cell_type": "code",
   "execution_count": 45,
   "metadata": {},
   "outputs": [
    {
     "data": {
      "text/plain": [
       "<lifelines.KaplanMeierFitter:\"(90,100]\", fitted with 92 total observations, 89 right-censored observations>"
      ]
     },
     "execution_count": 45,
     "metadata": {},
     "output_type": "execute_result"
    }
   ],
   "source": [
    "km.fit(durations = Age_Melanoma[\"Survival_Days\"], event_observed = Age_Melanoma[\"Death\"] )"
   ]
  },
  {
   "cell_type": "code",
   "execution_count": 46,
   "metadata": {},
   "outputs": [
    {
     "data": {
      "text/plain": [
       "0.977761119440279"
      ]
     },
     "execution_count": 46,
     "metadata": {},
     "output_type": "execute_result"
    }
   ],
   "source": [
    "km.predict(1825)"
   ]
  },
  {
   "cell_type": "markdown",
   "metadata": {},
   "source": [
    "\n",
    "what is the survival rate for 61-70 age group with melanoma cancer after 5 years since diagnosis? 0.81283422459893"
   ]
  },
  {
   "cell_type": "code",
   "execution_count": 47,
   "metadata": {},
   "outputs": [],
   "source": [
    "Age_Pancreatic = data[(data.ageCat == \"(20,30]\") & (data.cancer_type == \"Pancreatic Cancer\")]"
   ]
  },
  {
   "cell_type": "code",
   "execution_count": 48,
   "metadata": {},
   "outputs": [
    {
     "data": {
      "text/plain": [
       "<lifelines.KaplanMeierFitter:\"(90,100]\", fitted with 2 total observations, 2 right-censored observations>"
      ]
     },
     "execution_count": 48,
     "metadata": {},
     "output_type": "execute_result"
    }
   ],
   "source": [
    "km.fit(durations = Age_Pancreatic[\"Survival_Days\"], event_observed = Age_Pancreatic[\"Death\"] )"
   ]
  },
  {
   "cell_type": "code",
   "execution_count": 49,
   "metadata": {},
   "outputs": [
    {
     "data": {
      "text/plain": [
       "1.0"
      ]
     },
     "execution_count": 49,
     "metadata": {},
     "output_type": "execute_result"
    }
   ],
   "source": [
    "km.predict(365)"
   ]
  },
  {
   "cell_type": "markdown",
   "metadata": {},
   "source": [
    "\n",
    "what is the survival rate for 21 - 30 age group with pancreatic cancer after a year since diagnosis? 1.0"
   ]
  },
  {
   "cell_type": "code",
   "execution_count": 50,
   "metadata": {},
   "outputs": [],
   "source": [
    "Age_thyroid = data[(data.ageCat == \"(51,60]\") & (data.cancer_type == \"Thyroid Cancer\")]"
   ]
  },
  {
   "cell_type": "code",
   "execution_count": 51,
   "metadata": {},
   "outputs": [],
   "source": [
    "Age_thyroid= pd.read_csv(\"Thyroid.csv\")"
   ]
  },
  {
   "cell_type": "code",
   "execution_count": 52,
   "metadata": {},
   "outputs": [
    {
     "data": {
      "text/html": [
       "<div>\n",
       "<style scoped>\n",
       "    .dataframe tbody tr th:only-of-type {\n",
       "        vertical-align: middle;\n",
       "    }\n",
       "\n",
       "    .dataframe tbody tr th {\n",
       "        vertical-align: top;\n",
       "    }\n",
       "\n",
       "    .dataframe thead th {\n",
       "        text-align: right;\n",
       "    }\n",
       "</style>\n",
       "<table border=\"1\" class=\"dataframe\">\n",
       "  <thead>\n",
       "    <tr style=\"text-align: right;\">\n",
       "      <th></th>\n",
       "      <th>BIRTH_DATE_off</th>\n",
       "      <th>DEATH_DATE_off</th>\n",
       "      <th>sex</th>\n",
       "      <th>race</th>\n",
       "      <th>LUNG</th>\n",
       "      <th>PANCREAS</th>\n",
       "      <th>THYROID</th>\n",
       "      <th>COLORECTAL</th>\n",
       "      <th>MELANOMA</th>\n",
       "      <th>LUNG.DT</th>\n",
       "      <th>...</th>\n",
       "      <th>MELANOMA_DT</th>\n",
       "      <th>multiple_cancer</th>\n",
       "      <th>cancer_type</th>\n",
       "      <th>Category_Race</th>\n",
       "      <th>Age</th>\n",
       "      <th>ageCat</th>\n",
       "      <th>Diag_date</th>\n",
       "      <th>Death</th>\n",
       "      <th>Target</th>\n",
       "      <th>Survival_Days</th>\n",
       "    </tr>\n",
       "  </thead>\n",
       "  <tbody>\n",
       "    <tr>\n",
       "      <th>0</th>\n",
       "      <td>26/02/60</td>\n",
       "      <td>NaN</td>\n",
       "      <td>Female</td>\n",
       "      <td>Black/African-American</td>\n",
       "      <td>0</td>\n",
       "      <td>0</td>\n",
       "      <td>1</td>\n",
       "      <td>0</td>\n",
       "      <td>0</td>\n",
       "      <td>NaN</td>\n",
       "      <td>...</td>\n",
       "      <td>NaN</td>\n",
       "      <td>1</td>\n",
       "      <td>Thyroid Cancer</td>\n",
       "      <td>African-American</td>\n",
       "      <td>56</td>\n",
       "      <td>(50,60]</td>\n",
       "      <td>13/02/08</td>\n",
       "      <td>0</td>\n",
       "      <td>25/08/16</td>\n",
       "      <td>3116</td>\n",
       "    </tr>\n",
       "    <tr>\n",
       "      <th>1</th>\n",
       "      <td>15/03/65</td>\n",
       "      <td>NaN</td>\n",
       "      <td>Female</td>\n",
       "      <td>White</td>\n",
       "      <td>0</td>\n",
       "      <td>0</td>\n",
       "      <td>1</td>\n",
       "      <td>0</td>\n",
       "      <td>0</td>\n",
       "      <td>NaN</td>\n",
       "      <td>...</td>\n",
       "      <td>NaN</td>\n",
       "      <td>1</td>\n",
       "      <td>Thyroid Cancer</td>\n",
       "      <td>White</td>\n",
       "      <td>51</td>\n",
       "      <td>(50,60]</td>\n",
       "      <td>17/03/14</td>\n",
       "      <td>0</td>\n",
       "      <td>25/08/16</td>\n",
       "      <td>892</td>\n",
       "    </tr>\n",
       "    <tr>\n",
       "      <th>2</th>\n",
       "      <td>04/03/59</td>\n",
       "      <td>NaN</td>\n",
       "      <td>Male</td>\n",
       "      <td>Black/African-American</td>\n",
       "      <td>0</td>\n",
       "      <td>0</td>\n",
       "      <td>1</td>\n",
       "      <td>0</td>\n",
       "      <td>0</td>\n",
       "      <td>NaN</td>\n",
       "      <td>...</td>\n",
       "      <td>NaN</td>\n",
       "      <td>1</td>\n",
       "      <td>Thyroid Cancer</td>\n",
       "      <td>African-American</td>\n",
       "      <td>57</td>\n",
       "      <td>(50,60]</td>\n",
       "      <td>24/12/14</td>\n",
       "      <td>0</td>\n",
       "      <td>25/08/16</td>\n",
       "      <td>610</td>\n",
       "    </tr>\n",
       "    <tr>\n",
       "      <th>3</th>\n",
       "      <td>25/04/64</td>\n",
       "      <td>NaN</td>\n",
       "      <td>Female</td>\n",
       "      <td>White</td>\n",
       "      <td>0</td>\n",
       "      <td>0</td>\n",
       "      <td>1</td>\n",
       "      <td>0</td>\n",
       "      <td>0</td>\n",
       "      <td>NaN</td>\n",
       "      <td>...</td>\n",
       "      <td>NaN</td>\n",
       "      <td>1</td>\n",
       "      <td>Thyroid Cancer</td>\n",
       "      <td>White</td>\n",
       "      <td>52</td>\n",
       "      <td>(50,60]</td>\n",
       "      <td>10/07/14</td>\n",
       "      <td>0</td>\n",
       "      <td>25/08/16</td>\n",
       "      <td>777</td>\n",
       "    </tr>\n",
       "    <tr>\n",
       "      <th>4</th>\n",
       "      <td>03/11/59</td>\n",
       "      <td>NaN</td>\n",
       "      <td>Female</td>\n",
       "      <td>Unknown</td>\n",
       "      <td>0</td>\n",
       "      <td>0</td>\n",
       "      <td>1</td>\n",
       "      <td>0</td>\n",
       "      <td>0</td>\n",
       "      <td>NaN</td>\n",
       "      <td>...</td>\n",
       "      <td>NaN</td>\n",
       "      <td>1</td>\n",
       "      <td>Thyroid Cancer</td>\n",
       "      <td>Others</td>\n",
       "      <td>57</td>\n",
       "      <td>(50,60]</td>\n",
       "      <td>25/09/12</td>\n",
       "      <td>0</td>\n",
       "      <td>25/08/16</td>\n",
       "      <td>1430</td>\n",
       "    </tr>\n",
       "    <tr>\n",
       "      <th>...</th>\n",
       "      <td>...</td>\n",
       "      <td>...</td>\n",
       "      <td>...</td>\n",
       "      <td>...</td>\n",
       "      <td>...</td>\n",
       "      <td>...</td>\n",
       "      <td>...</td>\n",
       "      <td>...</td>\n",
       "      <td>...</td>\n",
       "      <td>...</td>\n",
       "      <td>...</td>\n",
       "      <td>...</td>\n",
       "      <td>...</td>\n",
       "      <td>...</td>\n",
       "      <td>...</td>\n",
       "      <td>...</td>\n",
       "      <td>...</td>\n",
       "      <td>...</td>\n",
       "      <td>...</td>\n",
       "      <td>...</td>\n",
       "      <td>...</td>\n",
       "    </tr>\n",
       "    <tr>\n",
       "      <th>164</th>\n",
       "      <td>02/01/63</td>\n",
       "      <td>NaN</td>\n",
       "      <td>Female</td>\n",
       "      <td>White</td>\n",
       "      <td>0</td>\n",
       "      <td>0</td>\n",
       "      <td>1</td>\n",
       "      <td>0</td>\n",
       "      <td>0</td>\n",
       "      <td>NaN</td>\n",
       "      <td>...</td>\n",
       "      <td>NaN</td>\n",
       "      <td>1</td>\n",
       "      <td>Thyroid Cancer</td>\n",
       "      <td>White</td>\n",
       "      <td>54</td>\n",
       "      <td>(50,60]</td>\n",
       "      <td>07/03/16</td>\n",
       "      <td>0</td>\n",
       "      <td>25/08/16</td>\n",
       "      <td>171</td>\n",
       "    </tr>\n",
       "    <tr>\n",
       "      <th>165</th>\n",
       "      <td>15/11/60</td>\n",
       "      <td>NaN</td>\n",
       "      <td>Male</td>\n",
       "      <td>White</td>\n",
       "      <td>0</td>\n",
       "      <td>0</td>\n",
       "      <td>1</td>\n",
       "      <td>0</td>\n",
       "      <td>0</td>\n",
       "      <td>NaN</td>\n",
       "      <td>...</td>\n",
       "      <td>NaN</td>\n",
       "      <td>1</td>\n",
       "      <td>Thyroid Cancer</td>\n",
       "      <td>White</td>\n",
       "      <td>56</td>\n",
       "      <td>(50,60]</td>\n",
       "      <td>01/10/15</td>\n",
       "      <td>0</td>\n",
       "      <td>25/08/16</td>\n",
       "      <td>329</td>\n",
       "    </tr>\n",
       "    <tr>\n",
       "      <th>166</th>\n",
       "      <td>29/12/56</td>\n",
       "      <td>NaN</td>\n",
       "      <td>Female</td>\n",
       "      <td>White</td>\n",
       "      <td>0</td>\n",
       "      <td>0</td>\n",
       "      <td>1</td>\n",
       "      <td>0</td>\n",
       "      <td>0</td>\n",
       "      <td>NaN</td>\n",
       "      <td>...</td>\n",
       "      <td>NaN</td>\n",
       "      <td>1</td>\n",
       "      <td>Thyroid Cancer</td>\n",
       "      <td>White</td>\n",
       "      <td>60</td>\n",
       "      <td>(50,60]</td>\n",
       "      <td>28/08/15</td>\n",
       "      <td>0</td>\n",
       "      <td>25/08/16</td>\n",
       "      <td>363</td>\n",
       "    </tr>\n",
       "    <tr>\n",
       "      <th>167</th>\n",
       "      <td>30/09/62</td>\n",
       "      <td>NaN</td>\n",
       "      <td>Male</td>\n",
       "      <td>White</td>\n",
       "      <td>0</td>\n",
       "      <td>0</td>\n",
       "      <td>1</td>\n",
       "      <td>0</td>\n",
       "      <td>0</td>\n",
       "      <td>NaN</td>\n",
       "      <td>...</td>\n",
       "      <td>NaN</td>\n",
       "      <td>1</td>\n",
       "      <td>Thyroid Cancer</td>\n",
       "      <td>White</td>\n",
       "      <td>54</td>\n",
       "      <td>(50,60]</td>\n",
       "      <td>31/07/15</td>\n",
       "      <td>0</td>\n",
       "      <td>25/08/16</td>\n",
       "      <td>391</td>\n",
       "    </tr>\n",
       "    <tr>\n",
       "      <th>168</th>\n",
       "      <td>27/08/60</td>\n",
       "      <td>NaN</td>\n",
       "      <td>Female</td>\n",
       "      <td>White</td>\n",
       "      <td>0</td>\n",
       "      <td>0</td>\n",
       "      <td>1</td>\n",
       "      <td>0</td>\n",
       "      <td>0</td>\n",
       "      <td>NaN</td>\n",
       "      <td>...</td>\n",
       "      <td>NaN</td>\n",
       "      <td>1</td>\n",
       "      <td>Thyroid Cancer</td>\n",
       "      <td>White</td>\n",
       "      <td>56</td>\n",
       "      <td>(50,60]</td>\n",
       "      <td>25/08/16</td>\n",
       "      <td>0</td>\n",
       "      <td>25/08/16</td>\n",
       "      <td>0</td>\n",
       "    </tr>\n",
       "  </tbody>\n",
       "</table>\n",
       "<p>169 rows × 23 columns</p>\n",
       "</div>"
      ],
      "text/plain": [
       "    BIRTH_DATE_off DEATH_DATE_off     sex                    race  LUNG  \\\n",
       "0         26/02/60            NaN  Female  Black/African-American     0   \n",
       "1         15/03/65            NaN  Female                   White     0   \n",
       "2         04/03/59            NaN    Male  Black/African-American     0   \n",
       "3         25/04/64            NaN  Female                   White     0   \n",
       "4         03/11/59            NaN  Female                 Unknown     0   \n",
       "..             ...            ...     ...                     ...   ...   \n",
       "164       02/01/63            NaN  Female                   White     0   \n",
       "165       15/11/60            NaN    Male                   White     0   \n",
       "166       29/12/56            NaN  Female                   White     0   \n",
       "167       30/09/62            NaN    Male                   White     0   \n",
       "168       27/08/60            NaN  Female                   White     0   \n",
       "\n",
       "     PANCREAS  THYROID  COLORECTAL  MELANOMA  LUNG.DT  ...  MELANOMA_DT  \\\n",
       "0           0        1           0         0      NaN  ...          NaN   \n",
       "1           0        1           0         0      NaN  ...          NaN   \n",
       "2           0        1           0         0      NaN  ...          NaN   \n",
       "3           0        1           0         0      NaN  ...          NaN   \n",
       "4           0        1           0         0      NaN  ...          NaN   \n",
       "..        ...      ...         ...       ...      ...  ...          ...   \n",
       "164         0        1           0         0      NaN  ...          NaN   \n",
       "165         0        1           0         0      NaN  ...          NaN   \n",
       "166         0        1           0         0      NaN  ...          NaN   \n",
       "167         0        1           0         0      NaN  ...          NaN   \n",
       "168         0        1           0         0      NaN  ...          NaN   \n",
       "\n",
       "    multiple_cancer     cancer_type     Category_Race  Age   ageCat Diag_date  \\\n",
       "0                 1  Thyroid Cancer  African-American   56  (50,60]  13/02/08   \n",
       "1                 1  Thyroid Cancer             White   51  (50,60]  17/03/14   \n",
       "2                 1  Thyroid Cancer  African-American   57  (50,60]  24/12/14   \n",
       "3                 1  Thyroid Cancer             White   52  (50,60]  10/07/14   \n",
       "4                 1  Thyroid Cancer            Others   57  (50,60]  25/09/12   \n",
       "..              ...             ...               ...  ...      ...       ...   \n",
       "164               1  Thyroid Cancer             White   54  (50,60]  07/03/16   \n",
       "165               1  Thyroid Cancer             White   56  (50,60]  01/10/15   \n",
       "166               1  Thyroid Cancer             White   60  (50,60]  28/08/15   \n",
       "167               1  Thyroid Cancer             White   54  (50,60]  31/07/15   \n",
       "168               1  Thyroid Cancer             White   56  (50,60]  25/08/16   \n",
       "\n",
       "     Death    Target Survival_Days  \n",
       "0        0  25/08/16          3116  \n",
       "1        0  25/08/16           892  \n",
       "2        0  25/08/16           610  \n",
       "3        0  25/08/16           777  \n",
       "4        0  25/08/16          1430  \n",
       "..     ...       ...           ...  \n",
       "164      0  25/08/16           171  \n",
       "165      0  25/08/16           329  \n",
       "166      0  25/08/16           363  \n",
       "167      0  25/08/16           391  \n",
       "168      0  25/08/16             0  \n",
       "\n",
       "[169 rows x 23 columns]"
      ]
     },
     "execution_count": 52,
     "metadata": {},
     "output_type": "execute_result"
    }
   ],
   "source": [
    "Age_thyroid"
   ]
  },
  {
   "cell_type": "code",
   "execution_count": 53,
   "metadata": {},
   "outputs": [
    {
     "data": {
      "text/plain": [
       "<lifelines.KaplanMeierFitter:\"(90,100]\", fitted with 169 total observations, 168 right-censored observations>"
      ]
     },
     "execution_count": 53,
     "metadata": {},
     "output_type": "execute_result"
    }
   ],
   "source": [
    "km.fit(durations = Age_thyroid[\"Survival_Days\"], event_observed = Age_thyroid[\"Death\"] )"
   ]
  },
  {
   "cell_type": "code",
   "execution_count": 54,
   "metadata": {},
   "outputs": [
    {
     "data": {
      "text/plain": [
       "0.9846153846153846"
      ]
     },
     "execution_count": 54,
     "metadata": {},
     "output_type": "execute_result"
    }
   ],
   "source": [
    "km.predict(2200)"
   ]
  },
  {
   "cell_type": "markdown",
   "metadata": {},
   "source": [
    "\n",
    "what is the survival rate for 51-60 age group with thyroid cancer after 2200 days since diagnosis? 0.9846153846153846"
   ]
  },
  {
   "cell_type": "code",
   "execution_count": 55,
   "metadata": {},
   "outputs": [
    {
     "data": {
      "image/png": "[encoded data removed]",
      "text/plain": [
       "<Figure size 432x288 with 1 Axes>"
      ]
     },
     "metadata": {
      "needs_background": "light"
     },
     "output_type": "display_data"
    }
   ],
   "source": [
    "ax = plt.subplot(111)\n",
    "\n",
    "km = KaplanMeierFitter()\n",
    "\n",
    "for name, grouped_df in Lung.groupby('Category_Race'):\n",
    "    km.fit(grouped_df[\"Survival_Days\"], grouped_df[\"Death\"], label=name)\n",
    "    km.plot_survival_function(ax=ax,ci_show=False)"
   ]
  },
  {
   "cell_type": "code",
   "execution_count": 56,
   "metadata": {},
   "outputs": [],
   "source": [
    "Race = data[data.Category_Race == \"White\"]"
   ]
  },
  {
   "cell_type": "code",
   "execution_count": 57,
   "metadata": {},
   "outputs": [
    {
     "data": {
      "text/html": [
       "<div>\n",
       "<style scoped>\n",
       "    .dataframe tbody tr th:only-of-type {\n",
       "        vertical-align: middle;\n",
       "    }\n",
       "\n",
       "    .dataframe tbody tr th {\n",
       "        vertical-align: top;\n",
       "    }\n",
       "\n",
       "    .dataframe thead th {\n",
       "        text-align: right;\n",
       "    }\n",
       "</style>\n",
       "<table border=\"1\" class=\"dataframe\">\n",
       "  <thead>\n",
       "    <tr style=\"text-align: right;\">\n",
       "      <th></th>\n",
       "      <th>BIRTH_DATE_off</th>\n",
       "      <th>DEATH_DATE_off</th>\n",
       "      <th>sex</th>\n",
       "      <th>race</th>\n",
       "      <th>LUNG</th>\n",
       "      <th>PANCREAS</th>\n",
       "      <th>THYROID</th>\n",
       "      <th>COLORECTAL</th>\n",
       "      <th>MELANOMA</th>\n",
       "      <th>LUNG.DT</th>\n",
       "      <th>...</th>\n",
       "      <th>MELANOMA_DT</th>\n",
       "      <th>multiple_cancer</th>\n",
       "      <th>cancer_type</th>\n",
       "      <th>Category_Race</th>\n",
       "      <th>Age</th>\n",
       "      <th>ageCat</th>\n",
       "      <th>Diag_date</th>\n",
       "      <th>Death</th>\n",
       "      <th>Target</th>\n",
       "      <th>Survival_Days</th>\n",
       "    </tr>\n",
       "  </thead>\n",
       "  <tbody>\n",
       "    <tr>\n",
       "      <th>18</th>\n",
       "      <td>04/09/49</td>\n",
       "      <td>NaN</td>\n",
       "      <td>Female</td>\n",
       "      <td>White</td>\n",
       "      <td>0</td>\n",
       "      <td>0</td>\n",
       "      <td>1</td>\n",
       "      <td>0</td>\n",
       "      <td>0</td>\n",
       "      <td>NaN</td>\n",
       "      <td>...</td>\n",
       "      <td>NaN</td>\n",
       "      <td>1</td>\n",
       "      <td>Thyroid Cancer</td>\n",
       "      <td>White</td>\n",
       "      <td>67</td>\n",
       "      <td>(60,70]</td>\n",
       "      <td>19/03/14</td>\n",
       "      <td>0</td>\n",
       "      <td>25/08/16</td>\n",
       "      <td>890</td>\n",
       "    </tr>\n",
       "    <tr>\n",
       "      <th>19</th>\n",
       "      <td>19/12/70</td>\n",
       "      <td>NaN</td>\n",
       "      <td>Female</td>\n",
       "      <td>White</td>\n",
       "      <td>0</td>\n",
       "      <td>0</td>\n",
       "      <td>0</td>\n",
       "      <td>1</td>\n",
       "      <td>0</td>\n",
       "      <td>NaN</td>\n",
       "      <td>...</td>\n",
       "      <td>NaN</td>\n",
       "      <td>1</td>\n",
       "      <td>Colorectal Cancer</td>\n",
       "      <td>White</td>\n",
       "      <td>46</td>\n",
       "      <td>(40,50]</td>\n",
       "      <td>09/12/13</td>\n",
       "      <td>0</td>\n",
       "      <td>25/08/16</td>\n",
       "      <td>990</td>\n",
       "    </tr>\n",
       "    <tr>\n",
       "      <th>20</th>\n",
       "      <td>28/02/26</td>\n",
       "      <td>NaN</td>\n",
       "      <td>Male</td>\n",
       "      <td>White</td>\n",
       "      <td>1</td>\n",
       "      <td>0</td>\n",
       "      <td>0</td>\n",
       "      <td>0</td>\n",
       "      <td>0</td>\n",
       "      <td>01/12/15</td>\n",
       "      <td>...</td>\n",
       "      <td>NaN</td>\n",
       "      <td>1</td>\n",
       "      <td>Lung Cancer</td>\n",
       "      <td>White</td>\n",
       "      <td>90</td>\n",
       "      <td>(80,90]</td>\n",
       "      <td>01/12/15</td>\n",
       "      <td>0</td>\n",
       "      <td>25/08/16</td>\n",
       "      <td>268</td>\n",
       "    </tr>\n",
       "    <tr>\n",
       "      <th>31</th>\n",
       "      <td>24/06/38</td>\n",
       "      <td>NaN</td>\n",
       "      <td>Male</td>\n",
       "      <td>White</td>\n",
       "      <td>0</td>\n",
       "      <td>1</td>\n",
       "      <td>0</td>\n",
       "      <td>0</td>\n",
       "      <td>0</td>\n",
       "      <td>NaN</td>\n",
       "      <td>...</td>\n",
       "      <td>NaN</td>\n",
       "      <td>1</td>\n",
       "      <td>Pancreatic Cancer</td>\n",
       "      <td>White</td>\n",
       "      <td>78</td>\n",
       "      <td>(70,80]</td>\n",
       "      <td>19/11/13</td>\n",
       "      <td>0</td>\n",
       "      <td>25/08/16</td>\n",
       "      <td>1010</td>\n",
       "    </tr>\n",
       "    <tr>\n",
       "      <th>40</th>\n",
       "      <td>12/07/45</td>\n",
       "      <td>NaN</td>\n",
       "      <td>Male</td>\n",
       "      <td>White</td>\n",
       "      <td>1</td>\n",
       "      <td>0</td>\n",
       "      <td>0</td>\n",
       "      <td>0</td>\n",
       "      <td>0</td>\n",
       "      <td>03/10/13</td>\n",
       "      <td>...</td>\n",
       "      <td>NaN</td>\n",
       "      <td>1</td>\n",
       "      <td>Lung Cancer</td>\n",
       "      <td>White</td>\n",
       "      <td>71</td>\n",
       "      <td>(70,80]</td>\n",
       "      <td>03/10/13</td>\n",
       "      <td>0</td>\n",
       "      <td>25/08/16</td>\n",
       "      <td>1057</td>\n",
       "    </tr>\n",
       "    <tr>\n",
       "      <th>...</th>\n",
       "      <td>...</td>\n",
       "      <td>...</td>\n",
       "      <td>...</td>\n",
       "      <td>...</td>\n",
       "      <td>...</td>\n",
       "      <td>...</td>\n",
       "      <td>...</td>\n",
       "      <td>...</td>\n",
       "      <td>...</td>\n",
       "      <td>...</td>\n",
       "      <td>...</td>\n",
       "      <td>...</td>\n",
       "      <td>...</td>\n",
       "      <td>...</td>\n",
       "      <td>...</td>\n",
       "      <td>...</td>\n",
       "      <td>...</td>\n",
       "      <td>...</td>\n",
       "      <td>...</td>\n",
       "      <td>...</td>\n",
       "      <td>...</td>\n",
       "    </tr>\n",
       "    <tr>\n",
       "      <th>4122</th>\n",
       "      <td>03/05/26</td>\n",
       "      <td>NaN</td>\n",
       "      <td>Male</td>\n",
       "      <td>White</td>\n",
       "      <td>1</td>\n",
       "      <td>0</td>\n",
       "      <td>0</td>\n",
       "      <td>0</td>\n",
       "      <td>0</td>\n",
       "      <td>14/08/15</td>\n",
       "      <td>...</td>\n",
       "      <td>NaN</td>\n",
       "      <td>1</td>\n",
       "      <td>Lung Cancer</td>\n",
       "      <td>White</td>\n",
       "      <td>90</td>\n",
       "      <td>(80,90]</td>\n",
       "      <td>14/08/15</td>\n",
       "      <td>0</td>\n",
       "      <td>25/08/16</td>\n",
       "      <td>377</td>\n",
       "    </tr>\n",
       "    <tr>\n",
       "      <th>4123</th>\n",
       "      <td>23/06/53</td>\n",
       "      <td>NaN</td>\n",
       "      <td>Female</td>\n",
       "      <td>White</td>\n",
       "      <td>0</td>\n",
       "      <td>0</td>\n",
       "      <td>0</td>\n",
       "      <td>1</td>\n",
       "      <td>0</td>\n",
       "      <td>NaN</td>\n",
       "      <td>...</td>\n",
       "      <td>NaN</td>\n",
       "      <td>1</td>\n",
       "      <td>Colorectal Cancer</td>\n",
       "      <td>White</td>\n",
       "      <td>63</td>\n",
       "      <td>(60,70]</td>\n",
       "      <td>10/11/15</td>\n",
       "      <td>0</td>\n",
       "      <td>25/08/16</td>\n",
       "      <td>289</td>\n",
       "    </tr>\n",
       "    <tr>\n",
       "      <th>4124</th>\n",
       "      <td>23/07/76</td>\n",
       "      <td>NaN</td>\n",
       "      <td>Female</td>\n",
       "      <td>White</td>\n",
       "      <td>0</td>\n",
       "      <td>0</td>\n",
       "      <td>1</td>\n",
       "      <td>0</td>\n",
       "      <td>0</td>\n",
       "      <td>NaN</td>\n",
       "      <td>...</td>\n",
       "      <td>NaN</td>\n",
       "      <td>1</td>\n",
       "      <td>Thyroid Cancer</td>\n",
       "      <td>White</td>\n",
       "      <td>40</td>\n",
       "      <td>(30,40]</td>\n",
       "      <td>13/06/14</td>\n",
       "      <td>0</td>\n",
       "      <td>25/08/16</td>\n",
       "      <td>804</td>\n",
       "    </tr>\n",
       "    <tr>\n",
       "      <th>4126</th>\n",
       "      <td>29/12/55</td>\n",
       "      <td>NaN</td>\n",
       "      <td>Female</td>\n",
       "      <td>White</td>\n",
       "      <td>0</td>\n",
       "      <td>0</td>\n",
       "      <td>0</td>\n",
       "      <td>0</td>\n",
       "      <td>1</td>\n",
       "      <td>NaN</td>\n",
       "      <td>...</td>\n",
       "      <td>06/01/13</td>\n",
       "      <td>1</td>\n",
       "      <td>Melanoma</td>\n",
       "      <td>White</td>\n",
       "      <td>61</td>\n",
       "      <td>(60,70]</td>\n",
       "      <td>06/01/13</td>\n",
       "      <td>0</td>\n",
       "      <td>25/08/16</td>\n",
       "      <td>1327</td>\n",
       "    </tr>\n",
       "    <tr>\n",
       "      <th>4127</th>\n",
       "      <td>09/04/67</td>\n",
       "      <td>NaN</td>\n",
       "      <td>Female</td>\n",
       "      <td>White</td>\n",
       "      <td>0</td>\n",
       "      <td>0</td>\n",
       "      <td>0</td>\n",
       "      <td>0</td>\n",
       "      <td>1</td>\n",
       "      <td>NaN</td>\n",
       "      <td>...</td>\n",
       "      <td>10/09/12</td>\n",
       "      <td>1</td>\n",
       "      <td>Melanoma</td>\n",
       "      <td>White</td>\n",
       "      <td>49</td>\n",
       "      <td>(40,50]</td>\n",
       "      <td>10/09/12</td>\n",
       "      <td>0</td>\n",
       "      <td>25/08/16</td>\n",
       "      <td>1445</td>\n",
       "    </tr>\n",
       "  </tbody>\n",
       "</table>\n",
       "<p>2806 rows × 23 columns</p>\n",
       "</div>"
      ],
      "text/plain": [
       "     BIRTH_DATE_off DEATH_DATE_off     sex   race  LUNG  PANCREAS  THYROID  \\\n",
       "18         04/09/49            NaN  Female  White     0         0        1   \n",
       "19         19/12/70            NaN  Female  White     0         0        0   \n",
       "20         28/02/26            NaN    Male  White     1         0        0   \n",
       "31         24/06/38            NaN    Male  White     0         1        0   \n",
       "40         12/07/45            NaN    Male  White     1         0        0   \n",
       "...             ...            ...     ...    ...   ...       ...      ...   \n",
       "4122       03/05/26            NaN    Male  White     1         0        0   \n",
       "4123       23/06/53            NaN  Female  White     0         0        0   \n",
       "4124       23/07/76            NaN  Female  White     0         0        1   \n",
       "4126       29/12/55            NaN  Female  White     0         0        0   \n",
       "4127       09/04/67            NaN  Female  White     0         0        0   \n",
       "\n",
       "      COLORECTAL  MELANOMA   LUNG.DT  ... MELANOMA_DT multiple_cancer  \\\n",
       "18             0         0       NaN  ...         NaN               1   \n",
       "19             1         0       NaN  ...         NaN               1   \n",
       "20             0         0  01/12/15  ...         NaN               1   \n",
       "31             0         0       NaN  ...         NaN               1   \n",
       "40             0         0  03/10/13  ...         NaN               1   \n",
       "...          ...       ...       ...  ...         ...             ...   \n",
       "4122           0         0  14/08/15  ...         NaN               1   \n",
       "4123           1         0       NaN  ...         NaN               1   \n",
       "4124           0         0       NaN  ...         NaN               1   \n",
       "4126           0         1       NaN  ...    06/01/13               1   \n",
       "4127           0         1       NaN  ...    10/09/12               1   \n",
       "\n",
       "            cancer_type Category_Race  Age   ageCat Diag_date  Death  \\\n",
       "18       Thyroid Cancer         White   67  (60,70]  19/03/14      0   \n",
       "19    Colorectal Cancer         White   46  (40,50]  09/12/13      0   \n",
       "20          Lung Cancer         White   90  (80,90]  01/12/15      0   \n",
       "31    Pancreatic Cancer         White   78  (70,80]  19/11/13      0   \n",
       "40          Lung Cancer         White   71  (70,80]  03/10/13      0   \n",
       "...                 ...           ...  ...      ...       ...    ...   \n",
       "4122        Lung Cancer         White   90  (80,90]  14/08/15      0   \n",
       "4123  Colorectal Cancer         White   63  (60,70]  10/11/15      0   \n",
       "4124     Thyroid Cancer         White   40  (30,40]  13/06/14      0   \n",
       "4126           Melanoma         White   61  (60,70]  06/01/13      0   \n",
       "4127           Melanoma         White   49  (40,50]  10/09/12      0   \n",
       "\n",
       "        Target Survival_Days  \n",
       "18    25/08/16           890  \n",
       "19    25/08/16           990  \n",
       "20    25/08/16           268  \n",
       "31    25/08/16          1010  \n",
       "40    25/08/16          1057  \n",
       "...        ...           ...  \n",
       "4122  25/08/16           377  \n",
       "4123  25/08/16           289  \n",
       "4124  25/08/16           804  \n",
       "4126  25/08/16          1327  \n",
       "4127  25/08/16          1445  \n",
       "\n",
       "[2806 rows x 23 columns]"
      ]
     },
     "execution_count": 57,
     "metadata": {},
     "output_type": "execute_result"
    }
   ],
   "source": [
    "Race"
   ]
  },
  {
   "cell_type": "code",
   "execution_count": 58,
   "metadata": {},
   "outputs": [
    {
     "data": {
      "text/plain": [
       "<lifelines.KaplanMeierFitter:\"White\", fitted with 2806 total observations, 2654 right-censored observations>"
      ]
     },
     "execution_count": 58,
     "metadata": {},
     "output_type": "execute_result"
    }
   ],
   "source": [
    "km.fit(durations = Race[\"Survival_Days\"], event_observed = Race[\"Death\"])"
   ]
  },
  {
   "cell_type": "code",
   "execution_count": 59,
   "metadata": {},
   "outputs": [
    {
     "data": {
      "text/plain": [
       "0.9119600736647215"
      ]
     },
     "execution_count": 59,
     "metadata": {},
     "output_type": "execute_result"
    }
   ],
   "source": [
    "km.predict(2500)"
   ]
  }
 ],
 "metadata": {
  "kernelspec": {
   "display_name": "Python 3",
   "language": "python",
   "name": "python3"
  },
  "language_info": {
   "codemirror_mode": {
    "name": "ipython",
    "version": 3
   },
   "file_extension": ".py",
   "mimetype": "text/x-python",
   "name": "python",
   "nbconvert_exporter": "python",
   "pygments_lexer": "ipython3",
   "version": "3.8.5"
  }
 },
 "nbformat": 4,
 "nbformat_minor": 4
}
